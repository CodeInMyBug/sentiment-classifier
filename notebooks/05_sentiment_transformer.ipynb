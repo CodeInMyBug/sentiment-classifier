{
 "cells": [
  {
   "cell_type": "markdown",
   "id": "9e1b0ad3-554b-41ce-8067-b565a9f5cbbe",
   "metadata": {},
   "source": [
    "# 📁 05_sentiment_transformer.ipynb\n",
    "\n",
    "# ## 1. Introduction\n",
    "\"\"\"\n",
    "Classify customer sentiment using a pre-trained Transformer (DistilBERT).\n",
    "Goal: Predict polarity (positive, neutral, negative) from feedback text.\n",
    "\"\"\""
   ]
  },
  {
   "cell_type": "code",
   "execution_count": 1,
   "id": "6910a937-e264-408a-a899-bf0c724a590b",
   "metadata": {},
   "outputs": [],
   "source": [
    "# ## 2. Imports\n",
    "import pandas as pd\n",
    "from transformers import pipeline\n",
    "import random"
   ]
  },
  {
   "cell_type": "code",
   "execution_count": 2,
   "id": "8978a0e8-2f8c-4fd7-b69b-35a515272b1f",
   "metadata": {},
   "outputs": [
    {
     "data": {
      "text/html": [
       "<div>\n",
       "<style scoped>\n",
       "    .dataframe tbody tr th:only-of-type {\n",
       "        vertical-align: middle;\n",
       "    }\n",
       "\n",
       "    .dataframe tbody tr th {\n",
       "        vertical-align: top;\n",
       "    }\n",
       "\n",
       "    .dataframe thead th {\n",
       "        text-align: right;\n",
       "    }\n",
       "</style>\n",
       "<table border=\"1\" class=\"dataframe\">\n",
       "  <thead>\n",
       "    <tr style=\"text-align: right;\">\n",
       "      <th></th>\n",
       "      <th>customer_id</th>\n",
       "      <th>text</th>\n",
       "      <th>sentiment</th>\n",
       "    </tr>\n",
       "  </thead>\n",
       "  <tbody>\n",
       "    <tr>\n",
       "      <th>0</th>\n",
       "      <td>CUST0000</td>\n",
       "      <td>Loved the experience!</td>\n",
       "      <td>positive</td>\n",
       "    </tr>\n",
       "    <tr>\n",
       "      <th>1</th>\n",
       "      <td>CUST0001</td>\n",
       "      <td>It was okay.</td>\n",
       "      <td>neutral</td>\n",
       "    </tr>\n",
       "    <tr>\n",
       "      <th>2</th>\n",
       "      <td>CUST0002</td>\n",
       "      <td>It was okay.</td>\n",
       "      <td>neutral</td>\n",
       "    </tr>\n",
       "    <tr>\n",
       "      <th>3</th>\n",
       "      <td>CUST0003</td>\n",
       "      <td>Would not recommend at all.</td>\n",
       "      <td>negative</td>\n",
       "    </tr>\n",
       "    <tr>\n",
       "      <th>4</th>\n",
       "      <td>CUST0004</td>\n",
       "      <td>Very satisfied with the service.</td>\n",
       "      <td>positive</td>\n",
       "    </tr>\n",
       "  </tbody>\n",
       "</table>\n",
       "</div>"
      ],
      "text/plain": [
       "  customer_id                              text sentiment\n",
       "0    CUST0000             Loved the experience!  positive\n",
       "1    CUST0001                      It was okay.   neutral\n",
       "2    CUST0002                      It was okay.   neutral\n",
       "3    CUST0003       Would not recommend at all.  negative\n",
       "4    CUST0004  Very satisfied with the service.  positive"
      ]
     },
     "execution_count": 2,
     "metadata": {},
     "output_type": "execute_result"
    }
   ],
   "source": [
    "# ## 3. Load Dataset\n",
    "df = pd.read_csv(\"customer_sentiment_reviews.csv\")\n",
    "df.head()"
   ]
  },
  {
   "cell_type": "code",
   "execution_count": 3,
   "id": "a618f1c8-10de-467d-875f-239b4a861950",
   "metadata": {},
   "outputs": [
    {
     "name": "stderr",
     "output_type": "stream",
     "text": [
      "Device set to use cpu\n"
     ]
    }
   ],
   "source": [
    "# ## 4. Load Sentiment Pipeline (DistilBERT)\n",
    "classifier = pipeline(\"sentiment-analysis\", model=\"distilbert-base-uncased-finetuned-sst-2-english\")"
   ]
  },
  {
   "cell_type": "code",
   "execution_count": 4,
   "id": "2f192077-abf7-468c-8315-dc3788b548e3",
   "metadata": {},
   "outputs": [],
   "source": [
    "# ## 5. Run Predictions on Sampled Data\n",
    "sample_texts = df['text'].sample(10, random_state=42).tolist()\n",
    "predictions = classifier(sample_texts)"
   ]
  },
  {
   "cell_type": "code",
   "execution_count": 5,
   "id": "a2980c74-6362-4425-ac20-c2460870b6f5",
   "metadata": {},
   "outputs": [
    {
     "name": "stdout",
     "output_type": "stream",
     "text": [
      "Text: Very slow and frustrating.\n",
      " → Prediction: NEGATIVE (1.00)\n",
      "\n",
      "Text: Nothing special.\n",
      " → Prediction: NEGATIVE (1.00)\n",
      "\n",
      "Text: Very satisfied with the service.\n",
      " → Prediction: POSITIVE (1.00)\n",
      "\n",
      "Text: Loved the experience!\n",
      " → Prediction: POSITIVE (1.00)\n",
      "\n",
      "Text: Just fine.\n",
      " → Prediction: POSITIVE (1.00)\n",
      "\n",
      "Text: Very satisfied with the service.\n",
      " → Prediction: POSITIVE (1.00)\n",
      "\n",
      "Text: Everything worked smoothly.\n",
      " → Prediction: POSITIVE (1.00)\n",
      "\n",
      "Text: Quick response and friendly staff.\n",
      " → Prediction: POSITIVE (1.00)\n",
      "\n",
      "Text: Great support and features.\n",
      " → Prediction: POSITIVE (1.00)\n",
      "\n",
      "Text: Just fine.\n",
      " → Prediction: POSITIVE (1.00)\n",
      "\n"
     ]
    }
   ],
   "source": [
    "# Combine and Display\n",
    "for text, pred in zip(sample_texts, predictions):\n",
    "    print(f\"Text: {text}\\n → Prediction: {pred['label']} ({pred['score']:.2f})\\n\")"
   ]
  },
  {
   "cell_type": "markdown",
   "id": "9bba0008-dcb6-4ac7-83df-91a00b87b054",
   "metadata": {},
   "source": [
    "# ## 6. Business Insight\n",
    "\"\"\"\n",
    "Use sentiment classifier to:\n",
    "- Auto-score support feedback or app reviews\n",
    "- Detect negative trends in real time\n",
    "- Trigger escalation workflows based on sentiment\n",
    "\n",
    "Next step: Fine-tune the model with labeled data and classify full dataset.\n",
    "\"\"\""
   ]
  }
 ],
 "metadata": {
  "kernelspec": {
   "display_name": "Python 3 (ipykernel)",
   "language": "python",
   "name": "python3"
  },
  "language_info": {
   "codemirror_mode": {
    "name": "ipython",
    "version": 3
   },
   "file_extension": ".py",
   "mimetype": "text/x-python",
   "name": "python",
   "nbconvert_exporter": "python",
   "pygments_lexer": "ipython3",
   "version": "3.11.7"
  }
 },
 "nbformat": 4,
 "nbformat_minor": 5
}
